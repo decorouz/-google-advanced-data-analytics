

















# Import pandas, pyplot from matplotlib, and seaborn.

### YOUR CODE HERE ### 
import pandas as pd
import matplotlib.pyplot as plt
import seaborn as sns





# Import the statsmodel module.

# Import the ols function from statsmodels.
import statsmodels.api as sm
from statsmodels.formula.api import ols


### YOUR CODE HERE ###








# RUN THIS CELL TO IMPORT YOUR DATA. 

### YOUR CODE HERE ###
data = pd.read_csv("../../data/marketing_and_sales_data_evaluation_lr.csv")

# Display the first five rows.

### YOUR CODE HERE ### 
data.head()




















# Display the shape of the data as a tuple (rows, columns).

### YOUR CODE HERE ### 
data.shape

















# Generate descriptive statistics about TV, Radio, and Social_Media.

### YOUR CODE HERE ###
data[["TV", "Radio", "Social_Media"]].describe()

















# Calculate the average missing rate in the sales column.

### YOUR CODE HERE ###
missing_sales = data["Sales"].isna().mean()

# Convert the missing_sales from a decimal to a percentage and round to 2 decimal place.

### YOUR CODE HERE ###
missing_sales = round(missing_sales*100, 2)

# Display the results (missing_sales must be converted to a string to be concatenated in the print statement).

### YOUR CODE HERE ###
print(f"Percentage of promotions missing Sales: {str(missing_sales)}%")














# Subset the data to include rows where Sales is present.

### YOUR CODE HERE ### 
data = data.dropna(subset = ["Sales"], axis =0)

















# Create a histogram of the Sales.

### YOUR CODE HERE ### 

# Add a title
fig = sns.histplot(data["Sales"])
fig.set_title("Distribution of Sales")























# Create a pairplot of the data.

### YOUR CODE HERE ### 
sns.pairplot(data);























# Define the OLS formula.

### YOUR CODE HERE ### 
ols_formula = "Sales ~ TV"

# Create an OLS model.

### YOUR CODE HERE ### 
OLS = ols(formula = ols_formula, data=data)

# Fit the model.

### YOUR CODE HERE ### 
model = OLS.fit()
# Save the results summary.

### YOUR CODE HERE ### 
model_results = model.summary()

# Display the model results.

### YOUR CODE HERE ### 
model_results


























# Create a scatterplot comparing X and Sales (Y).

### YOUR CODE HERE ### 
sns.scatterplot(x=data["TV"], y=data["Sales"])





























# Calculate the residuals.

### YOUR CODE HERE ### 
residuals = model.resid

# Create a 1x2 plot figures.
fig, axes = plt.subplots(1,2, figsize=(8,4))


# Create a histogram with the residuals. 

### YOUR CODE HERE ### 
sns.histplot(residuals, ax=axes[0])

# Set the x label of the residual plot.
axes[0].set_xlabel("Residual Value")

# Set the title of the residual plot.
axes[0].set_title("Histogram of Residuals")
# Create a Q-Q plot of the residuals.

### YOUR CODE HERE ### 

# Set the title of the Q-Q plot.
sm.qqplot(residuals, line="s", ax=axes[1])
axes[1].set_title("Normal Q-Q plot")

# Use matplotlib's tight_layout() function to add space between plots for a cleaner appearance.

# Show the plot.























# Create a scatterplot with the fitted values from the model and the residuals.

### YOUR CODE HERE ### 
fig = sns.scatterplot(x=model.fittedvalues, y=model.resid)

# Set the x-axis label.
fig.set_xlabel("Fitted Values")

# Set the y-axis label.
fig.set_ylabel("Fitted Values")
# Set the title.
fig.set_title("Fitted Values")
# Add a line at y = 0 to visualize the variance of residuals above and below 0.

### YOUR CODE HERE ### 
fig.axhline(0)
# Show the plot.
plt.show()























# Display the model_results defined previously.

### YOUR CODE HERE ###
model_results






































# Display the model_results defined previously.

### YOUR CODE HERE ###
model_results




























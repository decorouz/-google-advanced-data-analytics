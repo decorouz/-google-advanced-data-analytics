{
 "cells": [
  {
   "cell_type": "code",
   "execution_count": 57,
   "id": "defd7f44-4138-46d8-b784-0344e82677ab",
   "metadata": {},
   "outputs": [],
   "source": [
    "import numpy as np\n",
    "import statsmodels.api as sm\n",
    "import matplotlib.pyplot as plt"
   ]
  },
  {
   "cell_type": "code",
   "execution_count": 34,
   "id": "5c7c70a5-c534-4fdc-b943-ae66b4d36c1e",
   "metadata": {},
   "outputs": [],
   "source": [
    "N= 200\n",
    "np.random.seed(123)\n",
    "beta_vec = np.array([2,4,-2])\n",
    "x1 = np.random.normal(loc=8.0, scale=2, size=N)\n",
    "x2 = np.random.normal(loc=2.0, scale=1, size=N)\n",
    "x3 = 2 - 2*x1\n",
    "e = np.random.normal(loc=0, scale=1, size=N)\n",
    "\n",
    "y1 = np.dot(sm.add_constant(np.column_stack((x1, x2))), beta_vec) + e\n",
    "y2 = np.dot(sm.add_constant(np.column_stack((x1, x3))), beta_vec) + e"
   ]
  },
  {
   "cell_type": "code",
   "execution_count": 37,
   "id": "8a9d8801-4a66-4e42-a3bb-eaf02ed41154",
   "metadata": {},
   "outputs": [
    {
     "data": {
      "text/plain": [
       "3"
      ]
     },
     "execution_count": 37,
     "metadata": {},
     "output_type": "execute_result"
    }
   ],
   "source": [
    "x_mat_1 = sm.add_constant(np.column_stack((x1, x2)))\n",
    "np.linalg.matrix_rank(x_mat_1)"
   ]
  },
  {
   "cell_type": "code",
   "execution_count": 38,
   "id": "4d356a60-d81d-46df-92f7-4e4c59f286de",
   "metadata": {},
   "outputs": [
    {
     "data": {
      "text/plain": [
       "2"
      ]
     },
     "execution_count": 38,
     "metadata": {},
     "output_type": "execute_result"
    }
   ],
   "source": [
    "x_mat_2 = sm.add_constant(np.column_stack((x1, x3)))\n",
    "np.linalg.matrix_rank(x_mat_2)"
   ]
  },
  {
   "cell_type": "code",
   "execution_count": 39,
   "id": "59d8c585-8611-474d-a20a-85b97f6a7446",
   "metadata": {},
   "outputs": [
    {
     "name": "stdout",
     "output_type": "stream",
     "text": [
      "[[-2.44335917e+11  2.44335917e+11  1.22167959e+11]\n",
      " [ 2.44335917e+11 -2.44335917e+11 -1.22167959e+11]\n",
      " [ 1.22167959e+11 -1.22167959e+11 -6.10839793e+10]]\n"
     ]
    }
   ],
   "source": [
    "print(np.linalg.inv(np.dot(np.transpose(x_mat_2), x_mat_2)))"
   ]
  },
  {
   "cell_type": "code",
   "execution_count": 33,
   "id": "a852ada3-8c08-4c9d-9c09-f21a2c51381b",
   "metadata": {},
   "outputs": [
    {
     "name": "stdout",
     "output_type": "stream",
     "text": [
      "-2.90094837884564e-06\n"
     ]
    }
   ],
   "source": [
    "print(np.linalg.det(np.dot(np.transpose(x_mat_2), x_mat_2)))"
   ]
  },
  {
   "cell_type": "code",
   "execution_count": 40,
   "id": "2dd89648-26c1-4287-b8af-efeb4392f6f6",
   "metadata": {},
   "outputs": [
    {
     "data": {
      "text/plain": [
       "array([-1.92052035,  7.99857564])"
      ]
     },
     "execution_count": 40,
     "metadata": {},
     "output_type": "execute_result"
    }
   ],
   "source": [
    "x_mat_2_small = sm.add_constant(x1)\n",
    "np.dot(np.linalg.inv(np.dot(np.transpose(x_mat_2_small), x_mat_2_small)), np.dot(np.transpose(x_mat_2_small), y2))"
   ]
  },
  {
   "cell_type": "code",
   "execution_count": 52,
   "id": "c0a1e565-0d35-442b-911f-965c3a52b552",
   "metadata": {},
   "outputs": [
    {
     "data": {
      "text/html": [
       "<table class=\"simpletable\">\n",
       "<tr>\n",
       "      <td></td>         <th>coef</th>     <th>std err</th>      <th>t</th>      <th>P>|t|</th>  <th>[0.025</th>    <th>0.975]</th>  \n",
       "</tr>\n",
       "<tr>\n",
       "  <th>Intercept</th> <td>    2.0215</td> <td>    0.320</td> <td>    6.321</td> <td> 0.000</td> <td>    1.391</td> <td>    2.652</td>\n",
       "</tr>\n",
       "<tr>\n",
       "  <th>x1</th>        <td>    3.9985</td> <td>    0.034</td> <td>  116.274</td> <td> 0.000</td> <td>    3.931</td> <td>    4.066</td>\n",
       "</tr>\n",
       "<tr>\n",
       "  <th>x2</th>        <td>   -1.9689</td> <td>    0.078</td> <td>  -25.185</td> <td> 0.000</td> <td>   -2.123</td> <td>   -1.815</td>\n",
       "</tr>\n",
       "</table>"
      ],
      "text/plain": [
       "<class 'statsmodels.iolib.table.SimpleTable'>"
      ]
     },
     "execution_count": 52,
     "metadata": {},
     "output_type": "execute_result"
    }
   ],
   "source": [
    "import statsmodels.formula.api as smf\n",
    "import pandas as pd\n",
    "\n",
    "dt1 = pd.DataFrame(np.column_stack([y1, x1, x2]), columns=[\"y1\", \"x1\", \"x2\"])\n",
    "dt1 = pd.DataFrame(np.column_stack([y1, x1, x3]), columns=[\"y1\", \"x1\", \"x3\"])\n",
    "ols_formula = \"y1~ x1 + x2\"\n",
    "mdl_1 = smf.ols(formula=ols_formula, data=dt1).fit()\n",
    "mdl_1.summary().tables[1]"
   ]
  },
  {
   "cell_type": "code",
   "execution_count": 53,
   "id": "83f201d0-6e32-45e3-9419-450d7303466c",
   "metadata": {},
   "outputs": [
    {
     "data": {
      "text/html": [
       "<table class=\"simpletable\">\n",
       "<tr>\n",
       "      <td></td>         <th>coef</th>     <th>std err</th>      <th>t</th>      <th>P>|t|</th>  <th>[0.025</th>    <th>0.975]</th>  \n",
       "</tr>\n",
       "<tr>\n",
       "  <th>Intercept</th> <td>    0.8601</td> <td>    0.294</td> <td>    2.926</td> <td> 0.004</td> <td>    0.280</td> <td>    1.440</td>\n",
       "</tr>\n",
       "<tr>\n",
       "  <th>x1</th>        <td>    1.4866</td> <td>    0.222</td> <td>    6.707</td> <td> 0.000</td> <td>    1.050</td> <td>    1.924</td>\n",
       "</tr>\n",
       "<tr>\n",
       "  <th>x3</th>        <td>   -1.2531</td> <td>    0.145</td> <td>   -8.652</td> <td> 0.000</td> <td>   -1.539</td> <td>   -0.967</td>\n",
       "</tr>\n",
       "</table>"
      ],
      "text/plain": [
       "<class 'statsmodels.iolib.table.SimpleTable'>"
      ]
     },
     "execution_count": 53,
     "metadata": {},
     "output_type": "execute_result"
    }
   ],
   "source": [
    "ols_formula = \"y1~ x1 + x3\"\n",
    "mdl_2 = smf.ols(formula=ols_formula, data=dt1).fit()\n",
    "mdl_2.summary().tables[1]"
   ]
  },
  {
   "cell_type": "markdown",
   "id": "3567c55e-5e23-4871-8633-b3c079b99103",
   "metadata": {},
   "source": [
    "Python does not adjust for multicollinearity by removing collinear variables. On the other hand, it calculates a generalized inverse in order to estimate the OLS parameters.\n",
    "\n",
    "Fortunately, if we look at the out `summary()` - there is a warning regarding possible multicollinearity, which we can extract seperately:"
   ]
  },
  {
   "cell_type": "code",
   "execution_count": 77,
   "id": "ceb1c366-3181-44cd-b662-73681edc6c55",
   "metadata": {},
   "outputs": [
    {
     "data": {
      "text/plain": [
       "'Notes:\\n[1] Standard Errors assume that the covariance matrix of the errors is correctly specified.'"
      ]
     },
     "execution_count": 77,
     "metadata": {},
     "output_type": "execute_result"
    }
   ],
   "source": [
    "mdl_1.summary().extra_txt"
   ]
  },
  {
   "cell_type": "code",
   "execution_count": 78,
   "id": "4a232612-2539-4540-9e25-8d6443cdf32f",
   "metadata": {},
   "outputs": [
    {
     "data": {
      "text/plain": [
       "'Notes:\\n[1] Standard Errors assume that the covariance matrix of the errors is correctly specified.\\n[2] The smallest eigenvalue is 1.25e-30. This might indicate that there are\\nstrong multicollinearity problems or that the design matrix is singular.'"
      ]
     },
     "execution_count": 78,
     "metadata": {},
     "output_type": "execute_result"
    }
   ],
   "source": [
    "mdl_2.summary().extra_txt"
   ]
  },
  {
   "cell_type": "markdown",
   "id": "ae8a2851-68a7-41aa-9b7d-92d42efc862d",
   "metadata": {},
   "source": [
    "### Consequences of Multicollinearity\n",
    "Consequently multicollinearity results in multiple difficulties:\n",
    "\n",
    "* That the standard errors of the affected coefficients tend to be large\n",
    "* Small changes in the input data can lead to large changes in the model even resulting in chanves of sign of paramets estimates.\n",
    "* R^2 may be strangely large, which should be concerning when a model contains insignificant variables and variable with incorrect signs\n",
    "* The usual interpretation of a unit increase in $X_{j,i}$ effect on Y, holding all else constant does not hold if the explanatory variables are correlated.\n",
    "* In some sense, the collinear variables contain, at least partially, the same information about the depend variable. A consequence of such data redundancy is overfitting"
   ]
  },
  {
   "cell_type": "code",
   "execution_count": 79,
   "id": "75643328-22f3-4a1f-b6d1-e4b104322d0f",
   "metadata": {},
   "outputs": [
    {
     "data": {
      "image/png": "[encoded data removed]",
      "text/plain": [
       "<Figure size 1000x800 with 1 Axes>"
      ]
     },
     "metadata": {},
     "output_type": "display_data"
    }
   ],
   "source": [
    "import matplotlib.pyplot as plt\n",
    "\n",
    "np.random.seed(123)\n",
    "\n",
    "x3_new = 2 - 2 * np.power(x1, 0.9) + np.random.normal(loc=-2, scale=1, size=N)\n",
    "y2_new = sm.add_constant(np.column_stack([x1, x3_new])).dot(beta_vec) + e\n",
    "\n",
    "_ = plt.figure(num=0, figsize=(10,8))\n",
    "_ = plt.plot(x3, label=\"x3\", color=\"blue\")\n",
    "_ = plt.plot(x3_new, label=\"x3_new\", color=\"red\")\n",
    "_ = plt.legend(loc=\"lower left\")\n",
    "plt.show()"
   ]
  },
  {
   "cell_type": "code",
   "execution_count": 64,
   "id": "6d314a5b-3b2c-427e-ad75-3ea7bd0ebd31",
   "metadata": {},
   "outputs": [
    {
     "data": {
      "text/plain": [
       "array([[1.        , 0.99944538],\n",
       "       [0.99944538, 1.        ]])"
      ]
     },
     "execution_count": 64,
     "metadata": {},
     "output_type": "execute_result"
    }
   ],
   "source": [
    "np.corrcoef([x3, x3_new])"
   ]
  },
  {
   "cell_type": "code",
   "execution_count": 65,
   "id": "8146d59f-ae5f-491b-9870-e8c5f7bcbb2f",
   "metadata": {},
   "outputs": [
    {
     "name": "stdout",
     "output_type": "stream",
     "text": [
      "            Coef.  Std.Err.       t   P>|t|  [0.025   0.975]\n",
      "Intercept  2.2531    5.5268  0.4077  0.6840 -8.6463  13.1525\n",
      "x1         4.0311    1.0331  3.9021  0.0001  1.9938   6.0683\n",
      "x3_new    -1.9665    1.0638 -1.8486  0.0660 -4.0644   0.1313\n"
     ]
    }
   ],
   "source": [
    "dt3 = pd.DataFrame(np.column_stack([y2_new, x1, x3_new]), \n",
    "                   columns = [\"y2_new\", \"x1\", \"x3_new\"])\n",
    "mdl_3 = smf.ols(\"y2_new ~ x1 + x3_new\", data = dt3)\n",
    "#\n",
    "print(np.round(mdl_3.fit().summary2().tables[1], 4))"
   ]
  },
  {
   "cell_type": "code",
   "execution_count": 66,
   "id": "c30a4739-b0e3-4ffb-99f6-7844412c4f0d",
   "metadata": {},
   "outputs": [
    {
     "data": {
      "text/plain": [
       "0.9934"
      ]
     },
     "execution_count": 66,
     "metadata": {},
     "output_type": "execute_result"
    }
   ],
   "source": [
    "np.round(mdl_3.fit().rsquared, 4)"
   ]
  },
  {
   "cell_type": "markdown",
   "id": "2202dd60-df19-41c1-bf0a-f8a914931c0d",
   "metadata": {},
   "source": [
    "We see that the paramters are estimated close to the true values, even when $X_1$ and $X_3$ are related . On the other hand, the coefficients of $X_3$ is not statistically significantly different from zero."
   ]
  },
  {
   "cell_type": "code",
   "execution_count": 68,
   "id": "3ec4d0c8-b642-44ec-bea9-1173c6f38373",
   "metadata": {},
   "outputs": [
    {
     "data": {
      "text/html": [
       "<div>\n",
       "<style scoped>\n",
       "    .dataframe tbody tr th:only-of-type {\n",
       "        vertical-align: middle;\n",
       "    }\n",
       "\n",
       "    .dataframe tbody tr th {\n",
       "        vertical-align: top;\n",
       "    }\n",
       "\n",
       "    .dataframe thead th {\n",
       "        text-align: right;\n",
       "    }\n",
       "</style>\n",
       "<table border=\"1\" class=\"dataframe\">\n",
       "  <thead>\n",
       "    <tr style=\"text-align: right;\">\n",
       "      <th></th>\n",
       "      <th>Coef.</th>\n",
       "      <th>Std.Err.</th>\n",
       "      <th>t</th>\n",
       "      <th>P&gt;|t|</th>\n",
       "      <th>[0.025</th>\n",
       "      <th>0.975]</th>\n",
       "    </tr>\n",
       "  </thead>\n",
       "  <tbody>\n",
       "    <tr>\n",
       "      <th>Intercept</th>\n",
       "      <td>7.1324</td>\n",
       "      <td>32.1346</td>\n",
       "      <td>0.2220</td>\n",
       "      <td>0.8246</td>\n",
       "      <td>-56.2416</td>\n",
       "      <td>70.5064</td>\n",
       "    </tr>\n",
       "    <tr>\n",
       "      <th>x1</th>\n",
       "      <td>5.4225</td>\n",
       "      <td>9.0857</td>\n",
       "      <td>0.5968</td>\n",
       "      <td>0.5513</td>\n",
       "      <td>-12.4958</td>\n",
       "      <td>23.3407</td>\n",
       "    </tr>\n",
       "    <tr>\n",
       "      <th>x3_new</th>\n",
       "      <td>-0.9443</td>\n",
       "      <td>6.7169</td>\n",
       "      <td>-0.1406</td>\n",
       "      <td>0.8883</td>\n",
       "      <td>-14.1910</td>\n",
       "      <td>12.3025</td>\n",
       "    </tr>\n",
       "    <tr>\n",
       "      <th>np.power(x3_new, 2)</th>\n",
       "      <td>-0.0161</td>\n",
       "      <td>0.1045</td>\n",
       "      <td>-0.1541</td>\n",
       "      <td>0.8777</td>\n",
       "      <td>-0.2221</td>\n",
       "      <td>0.1899</td>\n",
       "    </tr>\n",
       "  </tbody>\n",
       "</table>\n",
       "</div>"
      ],
      "text/plain": [
       "                      Coef.  Std.Err.       t   P>|t|   [0.025   0.975]\n",
       "Intercept            7.1324   32.1346  0.2220  0.8246 -56.2416  70.5064\n",
       "x1                   5.4225    9.0857  0.5968  0.5513 -12.4958  23.3407\n",
       "x3_new              -0.9443    6.7169 -0.1406  0.8883 -14.1910  12.3025\n",
       "np.power(x3_new, 2) -0.0161    0.1045 -0.1541  0.8777  -0.2221   0.1899"
      ]
     },
     "execution_count": 68,
     "metadata": {},
     "output_type": "execute_result"
    }
   ],
   "source": [
    "mdl_4 = smf.ols(\"y2_new ~ x1 + x3_new + np.power(x3_new, 2)\", data = dt3)\n",
    "np.round(mdl_4.fit().summary2().tables[1], 4)"
   ]
  },
  {
   "cell_type": "markdown",
   "id": "61b0f4a6-261e-45d8-a446-88fa7d85e2c2",
   "metadata": {},
   "source": [
    "Suddenly not only did all of our coefficients become insignificant, some of them even changed sign, while others significantly decreased. Furthermore, from this model, we cannot say which variables may be collinear or even if there may be a collinearity problem.\n",
    "\n",
    "What makes matters worse, is the R^2 and the $R^2_{adj}$ of this model is very large"
   ]
  },
  {
   "cell_type": "code",
   "execution_count": 71,
   "id": "dda0c20c-137e-4ab5-9c71-b3abb06b876a",
   "metadata": {},
   "outputs": [
    {
     "data": {
      "text/plain": [
       "0.9934"
      ]
     },
     "execution_count": 71,
     "metadata": {},
     "output_type": "execute_result"
    }
   ],
   "source": [
    "np.round(mdl_4.fit().rsquared, 4)"
   ]
  },
  {
   "cell_type": "code",
   "execution_count": 73,
   "id": "e1866310-3f6b-4564-bff0-a787387e7ac0",
   "metadata": {},
   "outputs": [
    {
     "data": {
      "text/plain": [
       "0.9933"
      ]
     },
     "execution_count": 73,
     "metadata": {},
     "output_type": "execute_result"
    }
   ],
   "source": [
    "np.round(mdl_4.fit().rsquared_adj, 4)"
   ]
  },
  {
   "cell_type": "markdown",
   "id": "0da4bf8c-bbcc-4e86-afff-5f49df0bcdf3",
   "metadata": {},
   "source": [
    "If we do the same on the model without multicolliearity,:"
   ]
  },
  {
   "cell_type": "code",
   "execution_count": 74,
   "id": "8cd4d418-09e4-4fda-84c5-8476f6cca6fe",
   "metadata": {},
   "outputs": [
    {
     "data": {
      "text/html": [
       "<div>\n",
       "<style scoped>\n",
       "    .dataframe tbody tr th:only-of-type {\n",
       "        vertical-align: middle;\n",
       "    }\n",
       "\n",
       "    .dataframe tbody tr th {\n",
       "        vertical-align: top;\n",
       "    }\n",
       "\n",
       "    .dataframe thead th {\n",
       "        text-align: right;\n",
       "    }\n",
       "</style>\n",
       "<table border=\"1\" class=\"dataframe\">\n",
       "  <thead>\n",
       "    <tr style=\"text-align: right;\">\n",
       "      <th></th>\n",
       "      <th>Coef.</th>\n",
       "      <th>Std.Err.</th>\n",
       "      <th>t</th>\n",
       "      <th>P&gt;|t|</th>\n",
       "      <th>[0.025</th>\n",
       "      <th>0.975]</th>\n",
       "    </tr>\n",
       "  </thead>\n",
       "  <tbody>\n",
       "    <tr>\n",
       "      <th>Intercept</th>\n",
       "      <td>2.0215</td>\n",
       "      <td>0.3198</td>\n",
       "      <td>6.3212</td>\n",
       "      <td>0.0</td>\n",
       "      <td>1.3909</td>\n",
       "      <td>2.6522</td>\n",
       "    </tr>\n",
       "    <tr>\n",
       "      <th>x1</th>\n",
       "      <td>3.9985</td>\n",
       "      <td>0.0344</td>\n",
       "      <td>116.2739</td>\n",
       "      <td>0.0</td>\n",
       "      <td>3.9307</td>\n",
       "      <td>4.0663</td>\n",
       "    </tr>\n",
       "    <tr>\n",
       "      <th>x2</th>\n",
       "      <td>-1.9689</td>\n",
       "      <td>0.0782</td>\n",
       "      <td>-25.1852</td>\n",
       "      <td>0.0</td>\n",
       "      <td>-2.1231</td>\n",
       "      <td>-1.8147</td>\n",
       "    </tr>\n",
       "  </tbody>\n",
       "</table>\n",
       "</div>"
      ],
      "text/plain": [
       "            Coef.  Std.Err.         t  P>|t|  [0.025  0.975]\n",
       "Intercept  2.0215    0.3198    6.3212    0.0  1.3909  2.6522\n",
       "x1         3.9985    0.0344  116.2739    0.0  3.9307  4.0663\n",
       "x2        -1.9689    0.0782  -25.1852    0.0 -2.1231 -1.8147"
      ]
     },
     "execution_count": 74,
     "metadata": {},
     "output_type": "execute_result"
    }
   ],
   "source": [
    "np.round(smf.ols(\"y1 ~ x1 + x2\", data = dt1).fit().summary2().tables[1], 4)"
   ]
  },
  {
   "cell_type": "code",
   "execution_count": 75,
   "id": "4e6f51f7-a0d8-40ab-b034-9a11d35f10f5",
   "metadata": {},
   "outputs": [
    {
     "data": {
      "text/html": [
       "<div>\n",
       "<style scoped>\n",
       "    .dataframe tbody tr th:only-of-type {\n",
       "        vertical-align: middle;\n",
       "    }\n",
       "\n",
       "    .dataframe tbody tr th {\n",
       "        vertical-align: top;\n",
       "    }\n",
       "\n",
       "    .dataframe thead th {\n",
       "        text-align: right;\n",
       "    }\n",
       "</style>\n",
       "<table border=\"1\" class=\"dataframe\">\n",
       "  <thead>\n",
       "    <tr style=\"text-align: right;\">\n",
       "      <th></th>\n",
       "      <th>Coef.</th>\n",
       "      <th>Std.Err.</th>\n",
       "      <th>t</th>\n",
       "      <th>P&gt;|t|</th>\n",
       "      <th>[0.025</th>\n",
       "      <th>0.975]</th>\n",
       "    </tr>\n",
       "  </thead>\n",
       "  <tbody>\n",
       "    <tr>\n",
       "      <th>Intercept</th>\n",
       "      <td>2.0687</td>\n",
       "      <td>0.3746</td>\n",
       "      <td>5.5222</td>\n",
       "      <td>0.0000</td>\n",
       "      <td>1.3299</td>\n",
       "      <td>2.8075</td>\n",
       "    </tr>\n",
       "    <tr>\n",
       "      <th>x1</th>\n",
       "      <td>3.9983</td>\n",
       "      <td>0.0345</td>\n",
       "      <td>115.9761</td>\n",
       "      <td>0.0000</td>\n",
       "      <td>3.9304</td>\n",
       "      <td>4.0663</td>\n",
       "    </tr>\n",
       "    <tr>\n",
       "      <th>x2</th>\n",
       "      <td>-2.0282</td>\n",
       "      <td>0.2558</td>\n",
       "      <td>-7.9289</td>\n",
       "      <td>0.0000</td>\n",
       "      <td>-2.5326</td>\n",
       "      <td>-1.5237</td>\n",
       "    </tr>\n",
       "    <tr>\n",
       "      <th>I(x2 ** 2)</th>\n",
       "      <td>0.0149</td>\n",
       "      <td>0.0612</td>\n",
       "      <td>0.2435</td>\n",
       "      <td>0.8079</td>\n",
       "      <td>-0.1057</td>\n",
       "      <td>0.1355</td>\n",
       "    </tr>\n",
       "  </tbody>\n",
       "</table>\n",
       "</div>"
      ],
      "text/plain": [
       "             Coef.  Std.Err.         t   P>|t|  [0.025  0.975]\n",
       "Intercept   2.0687    0.3746    5.5222  0.0000  1.3299  2.8075\n",
       "x1          3.9983    0.0345  115.9761  0.0000  3.9304  4.0663\n",
       "x2         -2.0282    0.2558   -7.9289  0.0000 -2.5326 -1.5237\n",
       "I(x2 ** 2)  0.0149    0.0612    0.2435  0.8079 -0.1057  0.1355"
      ]
     },
     "execution_count": 75,
     "metadata": {},
     "output_type": "execute_result"
    }
   ],
   "source": [
    "np.round(smf.ols(\"y1 ~ x1 + x2 + I(x2**2)\", data = dt1).fit().summary2().tables[1], 4)"
   ]
  },
  {
   "cell_type": "markdown",
   "id": "831dd36b-49ed-41d6-935a-b40db4929241",
   "metadata": {},
   "source": [
    "\n",
    "###  Generalized Variance Inflation Factor (GVIF)\n",
    "\n",
    "Variance inflation factors are not fully applicable to models, which include a set of regressors (i.e. indicator regressors for the same categorical variable), or polynomial regressors. This is because the correlations among these variables are induced by the model structure and therefore are artificial. Usually, we are not concerned with artificial correlations of these types - we want to identify the effects of different explanatory variables."
   ]
  },
  {
   "cell_type": "code",
   "execution_count": 80,
   "id": "f12d9348-9794-4c5f-9924-1a955d1bb319",
   "metadata": {},
   "outputs": [
    {
     "name": "stdout",
     "output_type": "stream",
     "text": [
      "      y2_new        x1     x3_new    age\n",
      "0  48.567172  5.828739 -10.859063  26_40\n",
      "1  71.212106  9.994691 -14.881628  18_26\n",
      "2  62.848188  8.565957 -13.537666  26_40\n",
      "3  40.641276  4.987411 -10.000399  26_40\n",
      "4  53.102155  6.842799 -11.869809  10_18\n"
     ]
    }
   ],
   "source": [
    "np.random.seed(123)\n",
    "#\n",
    "dt3[\"age\"] = np.random.choice([\"10_18\", \"18_26\", \"26_40\", \"other\"], size = N, replace = True)\n",
    "print(dt3.head())"
   ]
  },
  {
   "cell_type": "code",
   "execution_count": 82,
   "id": "4d0cbc18-49cc-4fce-a090-6c71f285ebe5",
   "metadata": {},
   "outputs": [
    {
     "data": {
      "text/html": [
       "<div>\n",
       "<style scoped>\n",
       "    .dataframe tbody tr th:only-of-type {\n",
       "        vertical-align: middle;\n",
       "    }\n",
       "\n",
       "    .dataframe tbody tr th {\n",
       "        vertical-align: top;\n",
       "    }\n",
       "\n",
       "    .dataframe thead th {\n",
       "        text-align: right;\n",
       "    }\n",
       "</style>\n",
       "<table border=\"1\" class=\"dataframe\">\n",
       "  <thead>\n",
       "    <tr style=\"text-align: right;\">\n",
       "      <th></th>\n",
       "      <th>Coef.</th>\n",
       "      <th>Std.Err.</th>\n",
       "      <th>t</th>\n",
       "      <th>P&gt;|t|</th>\n",
       "      <th>[0.025</th>\n",
       "      <th>0.975]</th>\n",
       "    </tr>\n",
       "  </thead>\n",
       "  <tbody>\n",
       "    <tr>\n",
       "      <th>Intercept</th>\n",
       "      <td>2.2623</td>\n",
       "      <td>5.5151</td>\n",
       "      <td>0.4102</td>\n",
       "      <td>0.6821</td>\n",
       "      <td>-8.6150</td>\n",
       "      <td>13.1396</td>\n",
       "    </tr>\n",
       "    <tr>\n",
       "      <th>age[T.18_26]</th>\n",
       "      <td>-0.2813</td>\n",
       "      <td>0.2066</td>\n",
       "      <td>-1.3612</td>\n",
       "      <td>0.1750</td>\n",
       "      <td>-0.6888</td>\n",
       "      <td>0.1263</td>\n",
       "    </tr>\n",
       "    <tr>\n",
       "      <th>age[T.26_40]</th>\n",
       "      <td>-0.4044</td>\n",
       "      <td>0.2032</td>\n",
       "      <td>-1.9903</td>\n",
       "      <td>0.0480</td>\n",
       "      <td>-0.8051</td>\n",
       "      <td>-0.0037</td>\n",
       "    </tr>\n",
       "    <tr>\n",
       "      <th>age[T.other]</th>\n",
       "      <td>-0.2008</td>\n",
       "      <td>0.2027</td>\n",
       "      <td>-0.9904</td>\n",
       "      <td>0.3232</td>\n",
       "      <td>-0.6005</td>\n",
       "      <td>0.1990</td>\n",
       "    </tr>\n",
       "    <tr>\n",
       "      <th>x1</th>\n",
       "      <td>4.0034</td>\n",
       "      <td>1.0308</td>\n",
       "      <td>3.8836</td>\n",
       "      <td>0.0001</td>\n",
       "      <td>1.9703</td>\n",
       "      <td>6.0364</td>\n",
       "    </tr>\n",
       "    <tr>\n",
       "      <th>x3_new</th>\n",
       "      <td>-1.9999</td>\n",
       "      <td>1.0617</td>\n",
       "      <td>-1.8838</td>\n",
       "      <td>0.0611</td>\n",
       "      <td>-4.0938</td>\n",
       "      <td>0.0939</td>\n",
       "    </tr>\n",
       "  </tbody>\n",
       "</table>\n",
       "</div>"
      ],
      "text/plain": [
       "               Coef.  Std.Err.       t   P>|t|  [0.025   0.975]\n",
       "Intercept     2.2623    5.5151  0.4102  0.6821 -8.6150  13.1396\n",
       "age[T.18_26] -0.2813    0.2066 -1.3612  0.1750 -0.6888   0.1263\n",
       "age[T.26_40] -0.4044    0.2032 -1.9903  0.0480 -0.8051  -0.0037\n",
       "age[T.other] -0.2008    0.2027 -0.9904  0.3232 -0.6005   0.1990\n",
       "x1            4.0034    1.0308  3.8836  0.0001  1.9703   6.0364\n",
       "x3_new       -1.9999    1.0617 -1.8838  0.0611 -4.0938   0.0939"
      ]
     },
     "execution_count": 82,
     "metadata": {},
     "output_type": "execute_result"
    }
   ],
   "source": [
    "mdl_5 = smf.ols(\"y2_new ~ x1 + x3_new + age\", data = dt3)\n",
    "np.round(mdl_5.fit().summary2().tables[1], 4)"
   ]
  },
  {
   "cell_type": "markdown",
   "id": "cb273051-1e3a-4fc6-8644-ccc62145ce38",
   "metadata": {},
   "source": [
    "`x1` and `x3_new` are continuous predictors and `age` is a categorical variable presented by the indicator/dummy variables `age18_26`, `26_40` and other. In this case `10_18` is the baseline, or base group."
   ]
  },
  {
   "cell_type": "code",
   "execution_count": 90,
   "id": "4fcb0e1f-30ed-42cd-989a-c21930122878",
   "metadata": {},
   "outputs": [
    {
     "data": {
      "text/html": [
       "<div>\n",
       "<style scoped>\n",
       "    .dataframe tbody tr th:only-of-type {\n",
       "        vertical-align: middle;\n",
       "    }\n",
       "\n",
       "    .dataframe tbody tr th {\n",
       "        vertical-align: top;\n",
       "    }\n",
       "\n",
       "    .dataframe thead th {\n",
       "        text-align: right;\n",
       "    }\n",
       "</style>\n",
       "<table border=\"1\" class=\"dataframe\">\n",
       "  <thead>\n",
       "    <tr style=\"text-align: right;\">\n",
       "      <th></th>\n",
       "      <th>VIF Factor</th>\n",
       "      <th>Variable</th>\n",
       "    </tr>\n",
       "  </thead>\n",
       "  <tbody>\n",
       "    <tr>\n",
       "      <th>0</th>\n",
       "      <td>1.473014</td>\n",
       "      <td>age[T.18_26]</td>\n",
       "    </tr>\n",
       "    <tr>\n",
       "      <th>1</th>\n",
       "      <td>1.504754</td>\n",
       "      <td>age[T.26_40]</td>\n",
       "    </tr>\n",
       "    <tr>\n",
       "      <th>2</th>\n",
       "      <td>1.497897</td>\n",
       "      <td>age[T.other]</td>\n",
       "    </tr>\n",
       "    <tr>\n",
       "      <th>3</th>\n",
       "      <td>903.350945</td>\n",
       "      <td>x1</td>\n",
       "    </tr>\n",
       "    <tr>\n",
       "      <th>4</th>\n",
       "      <td>903.629974</td>\n",
       "      <td>x3_new</td>\n",
       "    </tr>\n",
       "  </tbody>\n",
       "</table>\n",
       "</div>"
      ],
      "text/plain": [
       "   VIF Factor      Variable\n",
       "0    1.473014  age[T.18_26]\n",
       "1    1.504754  age[T.26_40]\n",
       "2    1.497897  age[T.other]\n",
       "3  903.350945            x1\n",
       "4  903.629974        x3_new"
      ]
     },
     "execution_count": 90,
     "metadata": {},
     "output_type": "execute_result"
    }
   ],
   "source": [
    "from statsmodels.stats.outliers_influence import variance_inflation_factor\n",
    "\n",
    "vif = pd.DataFrame()\n",
    "vif[\"VIF Factor\"] = [variance_inflation_factor(mdl_5.exog, i) for i in range(1, mdl_5.exog.shape[1])]\n",
    "vif[\"Variable\"] = mdl_5.exog_names[1:]\n",
    "vif"
   ]
  },
  {
   "cell_type": "markdown",
   "id": "8b2784e2-59ad-439a-91b7-e6001aed11da",
   "metadata": {},
   "source": [
    "The problem is that the `VIF` values are affected by the baseline of the categorical variable. In order to be sure of not having a VIF value above an acceptable level, it would be necessary to redo this analysis for every level of the categorical variable being the base group - i.e. we would also need to use `age18_26` as the base group and calculate the VIF’s, then do the same with `age26_40` and finally with other. This gets more complicated if we have more than one categorical variable"
   ]
  },
  {
   "cell_type": "code",
   "execution_count": 92,
   "id": "2bf11c27-2412-4062-8bc4-c9b1626a738b",
   "metadata": {},
   "outputs": [],
   "source": [
    "import patsy as patsy\n",
    "#\n",
    "age = pd.DataFrame(dt3[\"age\"], columns= [\"age\"])\n",
    "X1 = patsy.dmatrix(\"0 + C(age)\", age, return_type = \"dataframe\")\n",
    "X2 = dt3[[\"x1\", \"x3_new\"]].copy() "
   ]
  },
  {
   "cell_type": "code",
   "execution_count": 95,
   "id": "7b9abb25-0077-400a-a6f0-76f7156092b3",
   "metadata": {},
   "outputs": [
    {
     "data": {
      "text/html": [
       "<div>\n",
       "<style scoped>\n",
       "    .dataframe tbody tr th:only-of-type {\n",
       "        vertical-align: middle;\n",
       "    }\n",
       "\n",
       "    .dataframe tbody tr th {\n",
       "        vertical-align: top;\n",
       "    }\n",
       "\n",
       "    .dataframe thead th {\n",
       "        text-align: right;\n",
       "    }\n",
       "</style>\n",
       "<table border=\"1\" class=\"dataframe\">\n",
       "  <thead>\n",
       "    <tr style=\"text-align: right;\">\n",
       "      <th></th>\n",
       "      <th>C(age)[10_18]</th>\n",
       "      <th>C(age)[18_26]</th>\n",
       "      <th>C(age)[26_40]</th>\n",
       "      <th>C(age)[other]</th>\n",
       "    </tr>\n",
       "  </thead>\n",
       "  <tbody>\n",
       "    <tr>\n",
       "      <th>0</th>\n",
       "      <td>0.0</td>\n",
       "      <td>0.0</td>\n",
       "      <td>1.0</td>\n",
       "      <td>0.0</td>\n",
       "    </tr>\n",
       "    <tr>\n",
       "      <th>1</th>\n",
       "      <td>0.0</td>\n",
       "      <td>1.0</td>\n",
       "      <td>0.0</td>\n",
       "      <td>0.0</td>\n",
       "    </tr>\n",
       "    <tr>\n",
       "      <th>2</th>\n",
       "      <td>0.0</td>\n",
       "      <td>0.0</td>\n",
       "      <td>1.0</td>\n",
       "      <td>0.0</td>\n",
       "    </tr>\n",
       "    <tr>\n",
       "      <th>3</th>\n",
       "      <td>0.0</td>\n",
       "      <td>0.0</td>\n",
       "      <td>1.0</td>\n",
       "      <td>0.0</td>\n",
       "    </tr>\n",
       "    <tr>\n",
       "      <th>4</th>\n",
       "      <td>1.0</td>\n",
       "      <td>0.0</td>\n",
       "      <td>0.0</td>\n",
       "      <td>0.0</td>\n",
       "    </tr>\n",
       "  </tbody>\n",
       "</table>\n",
       "</div>"
      ],
      "text/plain": [
       "   C(age)[10_18]  C(age)[18_26]  C(age)[26_40]  C(age)[other]\n",
       "0            0.0            0.0            1.0            0.0\n",
       "1            0.0            1.0            0.0            0.0\n",
       "2            0.0            0.0            1.0            0.0\n",
       "3            0.0            0.0            1.0            0.0\n",
       "4            1.0            0.0            0.0            0.0"
      ]
     },
     "execution_count": 95,
     "metadata": {},
     "output_type": "execute_result"
    }
   ],
   "source": [
    "X1.head()"
   ]
  },
  {
   "cell_type": "markdown",
   "id": "97f9dd3d-2fa0-467e-854f-2518ab709388",
   "metadata": {},
   "source": [
    "Note that since we do not include all of the indicator variables in the model so as to avoid the dummy variable trap, we need to drop one of the indicator variables. For simplicity, we will drop 10_18, since it was the base group for the previous model."
   ]
  },
  {
   "cell_type": "code",
   "execution_count": 96,
   "id": "2dd11c41-cd85-4ab5-80c8-0f57e802f947",
   "metadata": {},
   "outputs": [
    {
     "name": "stdout",
     "output_type": "stream",
     "text": [
      "   C(age)[18_26]  C(age)[26_40]  C(age)[other]\n",
      "0            0.0            1.0            0.0\n",
      "1            1.0            0.0            0.0\n",
      "2            0.0            1.0            0.0\n",
      "3            0.0            1.0            0.0\n",
      "4            0.0            0.0            0.0\n"
     ]
    }
   ],
   "source": [
    "X1 = X1.drop(X1.columns[0], axis = 1)\n",
    "print(X1.head())"
   ]
  },
  {
   "cell_type": "code",
   "execution_count": 98,
   "id": "c412ee94-0bf7-48f0-b70d-dd7f26d83a3d",
   "metadata": {},
   "outputs": [
    {
     "data": {
      "text/html": [
       "<div>\n",
       "<style scoped>\n",
       "    .dataframe tbody tr th:only-of-type {\n",
       "        vertical-align: middle;\n",
       "    }\n",
       "\n",
       "    .dataframe tbody tr th {\n",
       "        vertical-align: top;\n",
       "    }\n",
       "\n",
       "    .dataframe thead th {\n",
       "        text-align: right;\n",
       "    }\n",
       "</style>\n",
       "<table border=\"1\" class=\"dataframe\">\n",
       "  <thead>\n",
       "    <tr style=\"text-align: right;\">\n",
       "      <th></th>\n",
       "      <th>x1</th>\n",
       "      <th>x3_new</th>\n",
       "    </tr>\n",
       "  </thead>\n",
       "  <tbody>\n",
       "    <tr>\n",
       "      <th>0</th>\n",
       "      <td>5.828739</td>\n",
       "      <td>-10.859063</td>\n",
       "    </tr>\n",
       "    <tr>\n",
       "      <th>1</th>\n",
       "      <td>9.994691</td>\n",
       "      <td>-14.881628</td>\n",
       "    </tr>\n",
       "    <tr>\n",
       "      <th>2</th>\n",
       "      <td>8.565957</td>\n",
       "      <td>-13.537666</td>\n",
       "    </tr>\n",
       "    <tr>\n",
       "      <th>3</th>\n",
       "      <td>4.987411</td>\n",
       "      <td>-10.000399</td>\n",
       "    </tr>\n",
       "    <tr>\n",
       "      <th>4</th>\n",
       "      <td>6.842799</td>\n",
       "      <td>-11.869809</td>\n",
       "    </tr>\n",
       "  </tbody>\n",
       "</table>\n",
       "</div>"
      ],
      "text/plain": [
       "         x1     x3_new\n",
       "0  5.828739 -10.859063\n",
       "1  9.994691 -14.881628\n",
       "2  8.565957 -13.537666\n",
       "3  4.987411 -10.000399\n",
       "4  6.842799 -11.869809"
      ]
     },
     "execution_count": 98,
     "metadata": {},
     "output_type": "execute_result"
    }
   ],
   "source": [
    "X2.head()"
   ]
  },
  {
   "cell_type": "code",
   "execution_count": 99,
   "id": "5a12ca79-dd37-4c4c-a44d-b602b42d8c9f",
   "metadata": {},
   "outputs": [
    {
     "data": {
      "text/html": [
       "<div>\n",
       "<style scoped>\n",
       "    .dataframe tbody tr th:only-of-type {\n",
       "        vertical-align: middle;\n",
       "    }\n",
       "\n",
       "    .dataframe tbody tr th {\n",
       "        vertical-align: top;\n",
       "    }\n",
       "\n",
       "    .dataframe thead th {\n",
       "        text-align: right;\n",
       "    }\n",
       "</style>\n",
       "<table border=\"1\" class=\"dataframe\">\n",
       "  <thead>\n",
       "    <tr style=\"text-align: right;\">\n",
       "      <th></th>\n",
       "      <th>GVIF</th>\n",
       "      <th>GVIF^(1/2Df)</th>\n",
       "    </tr>\n",
       "  </thead>\n",
       "  <tbody>\n",
       "    <tr>\n",
       "      <th>0</th>\n",
       "      <td>1.025511</td>\n",
       "      <td>1.004207</td>\n",
       "    </tr>\n",
       "  </tbody>\n",
       "</table>\n",
       "</div>"
      ],
      "text/plain": [
       "       GVIF  GVIF^(1/2Df)\n",
       "0  1.025511      1.004207"
      ]
     },
     "execution_count": 99,
     "metadata": {},
     "output_type": "execute_result"
    }
   ],
   "source": [
    "tmp_gvif = np.linalg.det(X1.corr()) * np.linalg.det(X2.corr()) / np.linalg.det(pd.concat([X1.reset_index(drop = True), X2], axis = 1).corr())\n",
    "tmp_gvif = pd.DataFrame([tmp_gvif], columns = [\"GVIF\"])\n",
    "tmp_gvif[\"GVIF^(1/2Df)\"] = np.power(tmp_gvif[\"GVIF\"], 1 / (2 * len(X1.columns)))\n",
    "tmp_gvif"
   ]
  },
  {
   "cell_type": "code",
   "execution_count": 100,
   "id": "b916144a-085e-4fd1-836c-cce8a78a2e69",
   "metadata": {},
   "outputs": [
    {
     "name": "stdout",
     "output_type": "stream",
     "text": [
      "         GVIF  GVIF^(1/2Df)\n",
      "0  903.350945     30.055797\n"
     ]
    }
   ],
   "source": [
    "X1 = dt3[[\"x1\"]].copy()\n",
    "X2 = patsy.dmatrix(\"0 + C(age)\", age, return_type = \"dataframe\").iloc[:, 1:]\n",
    "X2 = pd.concat([X2.reset_index(drop = True), dt3[[\"x3_new\"]]], axis = 1)\n",
    "#\n",
    "tmp_gvif = np.linalg.det(X1.corr()) * np.linalg.det(X2.corr()) / np.linalg.det(pd.concat([X1.reset_index(drop = True), X2], axis = 1).corr())\n",
    "tmp_gvif = pd.DataFrame([tmp_gvif], columns = [\"GVIF\"])\n",
    "tmp_gvif[\"GVIF^(1/2Df)\"] = np.power(tmp_gvif[\"GVIF\"], 1 / (2 * len(X1.columns)))\n",
    "print(tmp_gvif)"
   ]
  },
  {
   "cell_type": "markdown",
   "id": "f187a411-a94b-49c3-8cac-9898778d9070",
   "metadata": {},
   "source": [
    "[https://web.vu.lt/mif/a.buteikis/wp-content/uploads/PE_Book/4-5-Multiple-collinearity.html](https://web.vu.lt/mif/a.buteikis/wp-content/uploads/PE_Book/4-5-Multiple-collinearity.html)"
   ]
  },
  {
   "cell_type": "code",
   "execution_count": null,
   "id": "903a72cd-3de6-48a5-b110-3e2a55640774",
   "metadata": {},
   "outputs": [],
   "source": []
  }
 ],
 "metadata": {
  "kernelspec": {
   "display_name": "Python 3 (ipykernel)",
   "language": "python",
   "name": "python3"
  },
  "language_info": {
   "codemirror_mode": {
    "name": "ipython",
    "version": 3
   },
   "file_extension": ".py",
   "mimetype": "text/x-python",
   "name": "python",
   "nbconvert_exporter": "python",
   "pygments_lexer": "ipython3",
   "version": "3.10.9"
  }
 },
 "nbformat": 4,
 "nbformat_minor": 5
}
